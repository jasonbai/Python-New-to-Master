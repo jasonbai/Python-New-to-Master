{
 "metadata": {
  "language_info": {
   "codemirror_mode": {
    "name": "ipython",
    "version": 3
   },
   "file_extension": ".py",
   "mimetype": "text/x-python",
   "name": "python",
   "nbconvert_exporter": "python",
   "pygments_lexer": "ipython3",
   "version": "3.8.8"
  },
  "orig_nbformat": 2,
  "kernelspec": {
   "name": "python3",
   "display_name": "Python 3.8.8 64-bit ('base': conda)"
  },
  "interpreter": {
   "hash": "7b4b4feff2f24a0f0a34464dbe537a36fda679851528fb8735cb41fa49dffb2d"
  }
 },
 "nbformat": 4,
 "nbformat_minor": 2,
 "cells": [
  {
   "cell_type": "markdown",
   "source": [
    "## 01 初始Python"
   ],
   "metadata": {}
  },
  {
   "cell_type": "code",
   "execution_count": 1,
   "source": [
    "import this"
   ],
   "outputs": [
    {
     "output_type": "stream",
     "name": "stdout",
     "text": [
      "The Zen of Python, by Tim Peters\n",
      "\n",
      "Beautiful is better than ugly.\n",
      "Explicit is better than implicit.\n",
      "Simple is better than complex.\n",
      "Complex is better than complicated.\n",
      "Flat is better than nested.\n",
      "Sparse is better than dense.\n",
      "Readability counts.\n",
      "Special cases aren't special enough to break the rules.\n",
      "Although practicality beats purity.\n",
      "Errors should never pass silently.\n",
      "Unless explicitly silenced.\n",
      "In the face of ambiguity, refuse the temptation to guess.\n",
      "There should be one-- and preferably only one --obvious way to do it.\n",
      "Although that way may not be obvious at first unless you're Dutch.\n",
      "Now is better than never.\n",
      "Although never is often better than *right* now.\n",
      "If the implementation is hard to explain, it's a bad idea.\n",
      "If the implementation is easy to explain, it may be a good idea.\n",
      "Namespaces are one honking great idea -- let's do more of those!\n"
     ]
    }
   ],
   "metadata": {}
  },
  {
   "cell_type": "markdown",
   "source": [
    "## 02 语言元素"
   ],
   "metadata": {}
  },
  {
   "cell_type": "markdown",
   "source": [
    "### 变量类型和变量使用"
   ],
   "metadata": {}
  },
  {
   "cell_type": "code",
   "execution_count": 2,
   "source": [
    "a = 321\r\n",
    "b = 12\r\n",
    "print(a+b)\r\n",
    "print(a-b)\r\n",
    "print(a*b)\r\n",
    "print(a/b)"
   ],
   "outputs": [
    {
     "output_type": "stream",
     "name": "stdout",
     "text": [
      "333\n",
      "309\n",
      "3852\n",
      "26.75\n"
     ]
    }
   ],
   "metadata": {}
  },
  {
   "cell_type": "code",
   "execution_count": 3,
   "source": [
    "# 使用type()检查变量类型\r\n",
    "\r\n",
    "a = 100\r\n",
    "b = 12.345\r\n",
    "c = 1 + 5j\r\n",
    "d = \"hello world\"\r\n",
    "e = True\r\n",
    "print(type(a))\r\n",
    "print(type(b))\r\n",
    "print(type(c))\r\n",
    "print(type(d))\r\n",
    "print(type(e))"
   ],
   "outputs": [
    {
     "output_type": "stream",
     "name": "stdout",
     "text": [
      "<class 'int'>\n",
      "<class 'float'>\n",
      "<class 'complex'>\n",
      "<class 'str'>\n",
      "<class 'bool'>\n"
     ]
    }
   ],
   "metadata": {}
  },
  {
   "cell_type": "code",
   "execution_count": 7,
   "source": [
    "\"\"\"\r\n",
    "使用input()函数获取键盘输入(字符串)\r\n",
    "使用int()函数将输入的字符串转换成整数\r\n",
    "使用print()函数输出带占位符的字符串\r\n",
    "\r\n",
    "Version: 0.1\r\n",
    "Author: 骆昊\r\n",
    "\"\"\"\r\n",
    "a = int(input('a = '))\r\n",
    "b = int(input('b = '))\r\n",
    "print('%d + %d = %d' % (a, b, a + b))\r\n",
    "print('%d - %d = %d' % (a, b, a - b))\r\n",
    "print('%d * %d = %d' % (a, b, a * b))\r\n",
    "print('%d / %d = %f' % (a, b, a / b))\r\n",
    "print('%d // %d = %d' % (a, b, a // b))\r\n",
    "print('%d %% %d = %d' % (a, b, a % b))\r\n",
    "print('%d ** %d = %d' % (a, b, a ** b))"
   ],
   "outputs": [
    {
     "output_type": "stream",
     "name": "stdout",
     "text": [
      "2 + 2 = 4\n",
      "2 - 2 = 0\n",
      "2 * 2 = 4\n",
      "2 / 2 = 1.000000\n",
      "2 // 2 = 1\n",
      "2 % 2 = 0\n",
      "2 ** 2 = 4\n"
     ]
    }
   ],
   "metadata": {}
  },
  {
   "cell_type": "markdown",
   "source": [
    "说明：上面的print函数中输出的字符串使用了占位符语法，其中%d是整数的占位符，%f是小数的占位符，%%表示百分号（因为百分号代表了占位符，所以带占位符的字符串中要表示百分号必须写成%%），字符串之后的%后面跟的变量值会替换掉占位符然后输出到终端中，运行上面的程序，看看程序执行结果就明白啦。"
   ],
   "metadata": {}
  },
  {
   "cell_type": "code",
   "execution_count": 8,
   "source": [
    "\"\"\"\r\n",
    "赋值运算符和复合赋值运算符\r\n",
    "\r\n",
    "Version: 0.1\r\n",
    "Author: 骆昊\r\n",
    "\"\"\"\r\n",
    "a = 10\r\n",
    "b = 3\r\n",
    "a += b        # 相当于：a = a + b\r\n",
    "a *= a + 2    # 相当于：a = a * (a + 2)\r\n",
    "print(a)      # 算一下这里会输出什么"
   ],
   "outputs": [
    {
     "output_type": "stream",
     "name": "stdout",
     "text": [
      "195\n"
     ]
    }
   ],
   "metadata": {}
  },
  {
   "cell_type": "code",
   "execution_count": 9,
   "source": [
    "\"\"\"\r\n",
    "比较运算符和逻辑运算符的使用\r\n",
    "\r\n",
    "Version: 0.1\r\n",
    "Author: 骆昊\r\n",
    "\"\"\"\r\n",
    "flag0 = 1 == 1\r\n",
    "flag1 = 3 > 2\r\n",
    "flag2 = 2 < 1\r\n",
    "flag3 = flag1 and flag2\r\n",
    "flag4 = flag1 or flag2\r\n",
    "flag5 = not (1 != 2)\r\n",
    "print('flag0 =', flag0)    # flag0 = True\r\n",
    "print('flag1 =', flag1)    # flag1 = True\r\n",
    "print('flag2 =', flag2)    # flag2 = False\r\n",
    "print('flag3 =', flag3)    # flag3 = False\r\n",
    "print('flag4 =', flag4)    # flag4 = True\r\n",
    "print('flag5 =', flag5)    # flag5 = False"
   ],
   "outputs": [
    {
     "output_type": "stream",
     "name": "stdout",
     "text": [
      "flag0 = True\n",
      "flag1 = True\n",
      "flag2 = False\n",
      "flag3 = False\n",
      "flag4 = True\n",
      "flag5 = False\n"
     ]
    }
   ],
   "metadata": {}
  },
  {
   "cell_type": "markdown",
   "source": [
    "### 练习1"
   ],
   "metadata": {}
  },
  {
   "cell_type": "code",
   "execution_count": 14,
   "source": [
    "f = float(input('请输入华氏温度： '))\r\n",
    "c = (f -32) / 1.8\r\n",
    "print('%.1f 华氏度 = %.1f摄氏度' % (f,c))\r\n"
   ],
   "outputs": [
    {
     "output_type": "stream",
     "name": "stdout",
     "text": [
      "69.9 华氏度 = 21.0摄氏度\n"
     ]
    }
   ],
   "metadata": {}
  },
  {
   "cell_type": "markdown",
   "source": [
    "说明：在使用print函数输出时，也可以对字符串内容进行格式化处理，上面print函数中的字符串%1.f是一个占位符，稍后会由一个float类型的变量值替换掉它。同理，如果字符串中有%d，后面可以用一个int类型的变量值替换掉它，而%s会被字符串的值替换掉。除了这种格式化字符串的方式外，还可以用下面的方式来格式化字符串，其中{f:.1f}和{c:.1f}可以先看成是{f}和{c}，表示输出时会用变量f和变量c的值替换掉这两个占位符，后面的:.1f表示这是一个浮点数，小数点后保留1位有效数字。"
   ],
   "metadata": {}
  },
  {
   "cell_type": "markdown",
   "source": [
    "### 练习2"
   ],
   "metadata": {}
  },
  {
   "cell_type": "code",
   "execution_count": 16,
   "source": [
    "# 计算半径计算圆的周长和面积\r\n",
    "radius = float(input(\"请输入圆的半径： \"))\r\n",
    "perimeter = 2 * 3.1416 *radius\r\n",
    "area = 3.1416 * radius * radius\r\n",
    "print(\"周长：%.2f\" % perimeter)\r\n",
    "print(\"面积: %.2f\" % area)"
   ],
   "outputs": [
    {
     "output_type": "stream",
     "name": "stdout",
     "text": [
      "周长：25.13\n",
      "面积: 50.27\n"
     ]
    }
   ],
   "metadata": {}
  },
  {
   "cell_type": "markdown",
   "source": [
    "### 练习3"
   ],
   "metadata": {}
  },
  {
   "cell_type": "code",
   "execution_count": 22,
   "source": [
    "# 输入年份，如果是闰年输入True，否则输入false\r\n",
    "\r\n",
    "year = int(input(\"请输入年份： \"))\r\n",
    "is_leap = year % 4 == 0 and year % 100 != 0 or year % 400 ==0\r\n",
    "print(is_leap)"
   ],
   "outputs": [
    {
     "output_type": "stream",
     "name": "stdout",
     "text": [
      "True\n"
     ]
    }
   ],
   "metadata": {}
  },
  {
   "cell_type": "markdown",
   "source": [
    "## 分支结构"
   ],
   "metadata": {}
  },
  {
   "cell_type": "markdown",
   "source": [
    "### 练习1"
   ],
   "metadata": {}
  },
  {
   "cell_type": "code",
   "execution_count": 1,
   "source": [
    "# 英制单位英寸和公职单位厘米互换\r\n",
    "\r\n",
    "value = float(input(\"请输入长度 ：\"))\r\n",
    "unit = input('请输入单位： ')\r\n",
    "\r\n",
    "if unit == 'in' or unit == '英寸':\r\n",
    "    print('%f英寸 = %f厘米' % (value,value * 2.54))\r\n",
    "elif unit == 'cm' or unit == '厘米' :\r\n",
    "    print('%f厘米 = %f英寸' % (value,value / 2.54))\r\n",
    "else:\r\n",
    "    print(\"请输入有效单位\")\r\n"
   ],
   "outputs": [
    {
     "output_type": "stream",
     "name": "stdout",
     "text": [
      "8.000000厘米 = 3.149606英寸\n"
     ]
    }
   ],
   "metadata": {}
  },
  {
   "cell_type": "markdown",
   "source": [
    "### 练习2"
   ],
   "metadata": {}
  },
  {
   "cell_type": "code",
   "execution_count": 3,
   "source": [
    "# 百分制分等级\r\n",
    "\r\n",
    "score = float(input(\"请输入您的成绩： \"))\r\n",
    "\r\n",
    "if score >= 90 :\r\n",
    "    grade = \"A\"\r\n",
    "elif score >=80 :\r\n",
    "    grade = \"B\"\r\n",
    "elif score >= 70 :\r\n",
    "    grade = \"C\"\r\n",
    "elif score >= 60:\r\n",
    "    grade = \"D\"\r\n",
    "else:\r\n",
    "    grade = \"E\"\r\n",
    "print(\"对应的等级是 ： \",grade)"
   ],
   "outputs": [
    {
     "output_type": "stream",
     "name": "stdout",
     "text": [
      "对应的等级是 ：  B\n"
     ]
    }
   ],
   "metadata": {}
  },
  {
   "cell_type": "markdown",
   "source": [
    "### 练习3 "
   ],
   "metadata": {}
  },
  {
   "cell_type": "code",
   "execution_count": 4,
   "source": [
    "# 判断输入的边长能否构成三角形，如果能则计算出三角形的周长和面积\r\n",
    "\r\n",
    "a = float(input('a = '))\r\n",
    "b = float(input('b = '))\r\n",
    "c = float(input('c = '))\r\n",
    "if a + b > c and a + c > b and b + c > a:\r\n",
    "    print('周长: %f' % (a + b + c))\r\n",
    "    p = (a + b + c) / 2\r\n",
    "    area = (p * (p - a) * (p - b) * (p - c)) ** 0.5\r\n",
    "    print('面积: %f' % (area))\r\n",
    "else:\r\n",
    "    print('不能构成三角形')\r\n",
    "\r\n",
    "# 说明： 上面使用的通过边长计算三角形面积的公式叫做海伦公式。"
   ],
   "outputs": [
    {
     "output_type": "stream",
     "name": "stdout",
     "text": [
      "不能构成三角形\n"
     ]
    }
   ],
   "metadata": {}
  },
  {
   "cell_type": "markdown",
   "source": [
    "## 04 循环结构"
   ],
   "metadata": {}
  },
  {
   "cell_type": "code",
   "execution_count": 5,
   "source": [
    "# 用for循环实现1~100求和\r\n",
    "\r\n",
    "sum = 0\r\n",
    "for x in range(101):\r\n",
    "    sum += x\r\n",
    "print(sum)"
   ],
   "outputs": [
    {
     "output_type": "stream",
     "name": "stdout",
     "text": [
      "5050\n"
     ]
    }
   ],
   "metadata": {}
  },
  {
   "cell_type": "markdown",
   "source": [
    "### range的用法非常灵活\n",
    "\n",
    "* range(101)：可以用来产生0到100范围的整数，需要注意的是取不到101。\n",
    "* range(1, 101)：可以用来产生1到100范围的整数，相当于前面是闭区间后面是开区间。\n",
    "* range(1, 101, 2)：可以用来产生1到100的奇数，其中2是步长，即每次数值递增的值。\n",
    "* range(100, 0, -2)：可以用来产生100到1的偶数，其中-2是步长，即每次数字递减的值。"
   ],
   "metadata": {}
  },
  {
   "cell_type": "markdown",
   "source": [
    "### while循环\n",
    "如果要构造不知道具体循环次数的循环结构，我们推荐使用while循环。while循环通过一个能够产生或转换出bool值的表达式来控制循环，表达式的值为True则继续循环；表达式的值为False则结束循环。"
   ],
   "metadata": {}
  },
  {
   "cell_type": "code",
   "execution_count": 1,
   "source": [
    "# 猜数字游戏\r\n",
    "\r\n",
    "import random\r\n",
    "\r\n",
    "answer = random.randint(1,100)\r\n",
    "conter = 0\r\n",
    "while True:\r\n",
    "    conter +=1\r\n",
    "    number = int(input(\"请输入： \"))\r\n",
    "\r\n",
    "    if number < answer:\r\n",
    "        print('bigger')\r\n",
    "    elif number > answer:\r\n",
    "        print('smaller')\r\n",
    "    else:\r\n",
    "        print('congrant')\r\n",
    "        break\r\n",
    "print('你共猜了%d次'  % conter)\r\n",
    "if conter > 7:\r\n",
    "    print(\"你的智商余额不足\")   "
   ],
   "outputs": [
    {
     "output_type": "error",
     "ename": "ValueError",
     "evalue": "invalid literal for int() with base 10: ''",
     "traceback": [
      "\u001b[1;31m---------------------------------------------------------------------------\u001b[0m",
      "\u001b[1;31mValueError\u001b[0m                                Traceback (most recent call last)",
      "\u001b[1;32m<ipython-input-1-2ac8fdddd06b>\u001b[0m in \u001b[0;36m<module>\u001b[1;34m\u001b[0m\n\u001b[0;32m      7\u001b[0m \u001b[1;32mwhile\u001b[0m \u001b[1;32mTrue\u001b[0m\u001b[1;33m:\u001b[0m\u001b[1;33m\u001b[0m\u001b[1;33m\u001b[0m\u001b[0m\n\u001b[0;32m      8\u001b[0m     \u001b[0mconter\u001b[0m \u001b[1;33m+=\u001b[0m\u001b[1;36m1\u001b[0m\u001b[1;33m\u001b[0m\u001b[1;33m\u001b[0m\u001b[0m\n\u001b[1;32m----> 9\u001b[1;33m     \u001b[0mnumber\u001b[0m \u001b[1;33m=\u001b[0m \u001b[0mint\u001b[0m\u001b[1;33m(\u001b[0m\u001b[0minput\u001b[0m\u001b[1;33m(\u001b[0m\u001b[1;34m\"请输入： \"\u001b[0m\u001b[1;33m)\u001b[0m\u001b[1;33m)\u001b[0m\u001b[1;33m\u001b[0m\u001b[1;33m\u001b[0m\u001b[0m\n\u001b[0m\u001b[0;32m     10\u001b[0m \u001b[1;33m\u001b[0m\u001b[0m\n\u001b[0;32m     11\u001b[0m     \u001b[1;32mif\u001b[0m \u001b[0mnumber\u001b[0m \u001b[1;33m<\u001b[0m \u001b[0manswer\u001b[0m\u001b[1;33m:\u001b[0m\u001b[1;33m\u001b[0m\u001b[1;33m\u001b[0m\u001b[0m\n",
      "\u001b[1;31mValueError\u001b[0m: invalid literal for int() with base 10: ''"
     ]
    }
   ],
   "metadata": {}
  },
  {
   "cell_type": "code",
   "execution_count": 3,
   "source": [
    "# 用循环语句输出乘法表\r\n",
    "\r\n",
    "for i in range(1, 10):\r\n",
    "    for j in range(1, i + 1):\r\n",
    "        print('%d*%d=%d' % (i, j, i * j), end='\\t')\r\n",
    "    print()"
   ],
   "outputs": [
    {
     "output_type": "stream",
     "name": "stdout",
     "text": [
      "1*1=1\t\n",
      "2*1=2\t2*2=4\t\n",
      "3*1=3\t3*2=6\t3*3=9\t\n",
      "4*1=4\t4*2=8\t4*3=12\t4*4=16\t\n",
      "5*1=5\t5*2=10\t5*3=15\t5*4=20\t5*5=25\t\n",
      "6*1=6\t6*2=12\t6*3=18\t6*4=24\t6*5=30\t6*6=36\t\n",
      "7*1=7\t7*2=14\t7*3=21\t7*4=28\t7*5=35\t7*6=42\t7*7=49\t\n",
      "8*1=8\t8*2=16\t8*3=24\t8*4=32\t8*5=40\t8*6=48\t8*7=56\t8*8=64\t\n",
      "9*1=9\t9*2=18\t9*3=27\t9*4=36\t9*5=45\t9*6=54\t9*7=63\t9*8=72\t9*9=81\t\n"
     ]
    }
   ],
   "metadata": {}
  }
 ]
}