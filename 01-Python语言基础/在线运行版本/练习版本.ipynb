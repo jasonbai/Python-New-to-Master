{
 "metadata": {
  "language_info": {
   "codemirror_mode": {
    "name": "ipython",
    "version": 3
   },
   "file_extension": ".py",
   "mimetype": "text/x-python",
   "name": "python",
   "nbconvert_exporter": "python",
   "pygments_lexer": "ipython3",
   "version": "3.7.4"
  },
  "orig_nbformat": 2,
  "kernelspec": {
   "name": "python3",
   "display_name": "Python 3.7.4 64-bit ('base': conda)",
   "metadata": {
    "interpreter": {
     "hash": "de405cc2d6952fd2aff521f44f09a5bf02d9820dbe7a14f58a05798f4b173db7"
    }
   }
  }
 },
 "nbformat": 4,
 "nbformat_minor": 2,
 "cells": [
  {
   "source": [
    "## 01 初始Python"
   ],
   "cell_type": "markdown",
   "metadata": {}
  },
  {
   "cell_type": "code",
   "execution_count": 1,
   "metadata": {},
   "outputs": [
    {
     "output_type": "stream",
     "name": "stdout",
     "text": [
      "The Zen of Python, by Tim Peters\n\nBeautiful is better than ugly.\nExplicit is better than implicit.\nSimple is better than complex.\nComplex is better than complicated.\nFlat is better than nested.\nSparse is better than dense.\nReadability counts.\nSpecial cases aren't special enough to break the rules.\nAlthough practicality beats purity.\nErrors should never pass silently.\nUnless explicitly silenced.\nIn the face of ambiguity, refuse the temptation to guess.\nThere should be one-- and preferably only one --obvious way to do it.\nAlthough that way may not be obvious at first unless you're Dutch.\nNow is better than never.\nAlthough never is often better than *right* now.\nIf the implementation is hard to explain, it's a bad idea.\nIf the implementation is easy to explain, it may be a good idea.\nNamespaces are one honking great idea -- let's do more of those!\n"
     ]
    }
   ],
   "source": [
    "import this"
   ]
  },
  {
   "source": [
    "## 02 语言元素"
   ],
   "cell_type": "markdown",
   "metadata": {}
  },
  {
   "source": [
    "### 变量类型和变量使用"
   ],
   "cell_type": "markdown",
   "metadata": {}
  },
  {
   "cell_type": "code",
   "execution_count": 2,
   "metadata": {},
   "outputs": [
    {
     "output_type": "stream",
     "name": "stdout",
     "text": [
      "333\n309\n3852\n26.75\n"
     ]
    }
   ],
   "source": [
    "a = 321\n",
    "b = 12\n",
    "print(a+b)\n",
    "print(a-b)\n",
    "print(a*b)\n",
    "print(a/b)"
   ]
  },
  {
   "cell_type": "code",
   "execution_count": 3,
   "metadata": {},
   "outputs": [
    {
     "output_type": "stream",
     "name": "stdout",
     "text": [
      "<class 'int'>\n<class 'float'>\n<class 'complex'>\n<class 'str'>\n<class 'bool'>\n"
     ]
    }
   ],
   "source": [
    "# 使用type()检查变量类型\n",
    "\n",
    "a = 100\n",
    "b = 12.345\n",
    "c = 1 + 5j\n",
    "d = \"hello world\"\n",
    "e = True\n",
    "print(type(a))\n",
    "print(type(b))\n",
    "print(type(c))\n",
    "print(type(d))\n",
    "print(type(e))"
   ]
  },
  {
   "cell_type": "code",
   "execution_count": 7,
   "metadata": {},
   "outputs": [
    {
     "output_type": "stream",
     "name": "stdout",
     "text": [
      "2 + 2 = 4\n2 - 2 = 0\n2 * 2 = 4\n2 / 2 = 1.000000\n2 // 2 = 1\n2 % 2 = 0\n2 ** 2 = 4\n"
     ]
    }
   ],
   "source": [
    "\"\"\"\n",
    "使用input()函数获取键盘输入(字符串)\n",
    "使用int()函数将输入的字符串转换成整数\n",
    "使用print()函数输出带占位符的字符串\n",
    "\n",
    "Version: 0.1\n",
    "Author: 骆昊\n",
    "\"\"\"\n",
    "a = int(input('a = '))\n",
    "b = int(input('b = '))\n",
    "print('%d + %d = %d' % (a, b, a + b))\n",
    "print('%d - %d = %d' % (a, b, a - b))\n",
    "print('%d * %d = %d' % (a, b, a * b))\n",
    "print('%d / %d = %f' % (a, b, a / b))\n",
    "print('%d // %d = %d' % (a, b, a // b))\n",
    "print('%d %% %d = %d' % (a, b, a % b))\n",
    "print('%d ** %d = %d' % (a, b, a ** b))"
   ]
  },
  {
   "source": [
    "说明：上面的print函数中输出的字符串使用了占位符语法，其中%d是整数的占位符，%f是小数的占位符，%%表示百分号（因为百分号代表了占位符，所以带占位符的字符串中要表示百分号必须写成%%），字符串之后的%后面跟的变量值会替换掉占位符然后输出到终端中，运行上面的程序，看看程序执行结果就明白啦。"
   ],
   "cell_type": "markdown",
   "metadata": {}
  },
  {
   "cell_type": "code",
   "execution_count": 8,
   "metadata": {},
   "outputs": [
    {
     "output_type": "stream",
     "name": "stdout",
     "text": [
      "195\n"
     ]
    }
   ],
   "source": [
    "\"\"\"\n",
    "赋值运算符和复合赋值运算符\n",
    "\n",
    "Version: 0.1\n",
    "Author: 骆昊\n",
    "\"\"\"\n",
    "a = 10\n",
    "b = 3\n",
    "a += b        # 相当于：a = a + b\n",
    "a *= a + 2    # 相当于：a = a * (a + 2)\n",
    "print(a)      # 算一下这里会输出什么"
   ]
  },
  {
   "cell_type": "code",
   "execution_count": 9,
   "metadata": {},
   "outputs": [
    {
     "output_type": "stream",
     "name": "stdout",
     "text": [
      "flag0 = True\nflag1 = True\nflag2 = False\nflag3 = False\nflag4 = True\nflag5 = False\n"
     ]
    }
   ],
   "source": [
    "\"\"\"\n",
    "比较运算符和逻辑运算符的使用\n",
    "\n",
    "Version: 0.1\n",
    "Author: 骆昊\n",
    "\"\"\"\n",
    "flag0 = 1 == 1\n",
    "flag1 = 3 > 2\n",
    "flag2 = 2 < 1\n",
    "flag3 = flag1 and flag2\n",
    "flag4 = flag1 or flag2\n",
    "flag5 = not (1 != 2)\n",
    "print('flag0 =', flag0)    # flag0 = True\n",
    "print('flag1 =', flag1)    # flag1 = True\n",
    "print('flag2 =', flag2)    # flag2 = False\n",
    "print('flag3 =', flag3)    # flag3 = False\n",
    "print('flag4 =', flag4)    # flag4 = True\n",
    "print('flag5 =', flag5)    # flag5 = False"
   ]
  },
  {
   "source": [
    "### 练习1"
   ],
   "cell_type": "markdown",
   "metadata": {}
  },
  {
   "cell_type": "code",
   "execution_count": 14,
   "metadata": {},
   "outputs": [
    {
     "output_type": "stream",
     "name": "stdout",
     "text": [
      "69.9 华氏度 = 21.0摄氏度\n"
     ]
    }
   ],
   "source": [
    "f = float(input('请输入华氏温度： '))\n",
    "c = (f -32) / 1.8\n",
    "print('%.1f 华氏度 = %.1f摄氏度' % (f,c))\n"
   ]
  },
  {
   "source": [
    "说明：在使用print函数输出时，也可以对字符串内容进行格式化处理，上面print函数中的字符串%1.f是一个占位符，稍后会由一个float类型的变量值替换掉它。同理，如果字符串中有%d，后面可以用一个int类型的变量值替换掉它，而%s会被字符串的值替换掉。除了这种格式化字符串的方式外，还可以用下面的方式来格式化字符串，其中{f:.1f}和{c:.1f}可以先看成是{f}和{c}，表示输出时会用变量f和变量c的值替换掉这两个占位符，后面的:.1f表示这是一个浮点数，小数点后保留1位有效数字。"
   ],
   "cell_type": "markdown",
   "metadata": {}
  },
  {
   "source": [
    "### 练习2"
   ],
   "cell_type": "markdown",
   "metadata": {}
  },
  {
   "cell_type": "code",
   "execution_count": 16,
   "metadata": {},
   "outputs": [
    {
     "output_type": "stream",
     "name": "stdout",
     "text": [
      "周长：25.13\n面积: 50.27\n"
     ]
    }
   ],
   "source": [
    "# 计算半径计算圆的周长和面积\n",
    "radius = float(input(\"请输入圆的半径： \"))\n",
    "perimeter = 2 * 3.1416 *radius\n",
    "area = 3.1416 * radius * radius\n",
    "print(\"周长：%.2f\" % perimeter)\n",
    "print(\"面积: %.2f\" % area)"
   ]
  },
  {
   "source": [
    "### 练习3"
   ],
   "cell_type": "markdown",
   "metadata": {}
  },
  {
   "cell_type": "code",
   "execution_count": 22,
   "metadata": {},
   "outputs": [
    {
     "output_type": "stream",
     "name": "stdout",
     "text": [
      "True\n"
     ]
    }
   ],
   "source": [
    "# 输入年份，如果是闰年输入True，否则输入false\n",
    "\n",
    "year = int(input(\"请输入年份： \"))\n",
    "is_leap = year % 4 == 0 and year % 100 != 0 or year % 400 ==0\n",
    "print(is_leap)"
   ]
  },
  {
   "source": [
    "## 分支结构"
   ],
   "cell_type": "markdown",
   "metadata": {}
  },
  {
   "source": [
    "### 练习1"
   ],
   "cell_type": "markdown",
   "metadata": {}
  },
  {
   "cell_type": "code",
   "execution_count": 1,
   "metadata": {},
   "outputs": [
    {
     "output_type": "stream",
     "name": "stdout",
     "text": [
      "8.000000厘米 = 3.149606英寸\n"
     ]
    }
   ],
   "source": [
    "# 英制单位英寸和公职单位厘米互换\n",
    "\n",
    "value = float(input(\"请输入长度 ：\"))\n",
    "unit = input('请输入单位： ')\n",
    "\n",
    "if unit == 'in' or unit == '英寸':\n",
    "    print('%f英寸 = %f厘米' % (value,value * 2.54))\n",
    "elif unit == 'cm' or unit == '厘米' :\n",
    "    print('%f厘米 = %f英寸' % (value,value / 2.54))\n",
    "else:\n",
    "    print(\"请输入有效单位\")\n"
   ]
  },
  {
   "source": [
    "### 练习2"
   ],
   "cell_type": "markdown",
   "metadata": {}
  },
  {
   "cell_type": "code",
   "execution_count": 3,
   "metadata": {},
   "outputs": [
    {
     "output_type": "stream",
     "name": "stdout",
     "text": [
      "对应的等级是 ：  B\n"
     ]
    }
   ],
   "source": [
    "# 百分制分等级\n",
    "\n",
    "score = float(input(\"请输入您的成绩： \"))\n",
    "\n",
    "if score >= 90 :\n",
    "    grade = \"A\"\n",
    "elif score >=80 :\n",
    "    grade = \"B\"\n",
    "elif score >= 70 :\n",
    "    grade = \"C\"\n",
    "elif score >= 60:\n",
    "    grade = \"D\"\n",
    "else:\n",
    "    grade = \"E\"\n",
    "print(\"对应的等级是 ： \",grade)"
   ]
  },
  {
   "source": [
    "### 练习3 "
   ],
   "cell_type": "markdown",
   "metadata": {}
  },
  {
   "cell_type": "code",
   "execution_count": 4,
   "metadata": {},
   "outputs": [
    {
     "output_type": "stream",
     "name": "stdout",
     "text": [
      "不能构成三角形\n"
     ]
    }
   ],
   "source": [
    "# 判断输入的边长能否构成三角形，如果能则计算出三角形的周长和面积\n",
    "\n",
    "a = float(input('a = '))\n",
    "b = float(input('b = '))\n",
    "c = float(input('c = '))\n",
    "if a + b > c and a + c > b and b + c > a:\n",
    "    print('周长: %f' % (a + b + c))\n",
    "    p = (a + b + c) / 2\n",
    "    area = (p * (p - a) * (p - b) * (p - c)) ** 0.5\n",
    "    print('面积: %f' % (area))\n",
    "else:\n",
    "    print('不能构成三角形')\n",
    "\n",
    "# 说明： 上面使用的通过边长计算三角形面积的公式叫做海伦公式。"
   ]
  }
 ]
}